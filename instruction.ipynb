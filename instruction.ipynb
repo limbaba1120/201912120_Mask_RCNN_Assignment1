{
 "cells": [
  {
   "cell_type": "markdown",
   "metadata": {},
   "source": [
    "201912120 임건우\n",
    "# MASK-RCNN을 적용한 객체 인식 프로젝트\n",
    "## Sample Balloon 학습 (Anaconda 기반 로컬 코드 활용)\n",
    "### 참고 (https://hdongle.tistory.com/202)"
   ]
  },
  {
   "cell_type": "code",
   "execution_count": null,
   "metadata": {},
   "outputs": [],
   "source": [
    "# (Anaconda Prompt) 가상환경 생성 - python3.7\n",
    "\n",
    "conda create -n tf115 python==3.7\n",
    "conda activate tf115\n"
   ]
  },
  {
   "cell_type": "code",
   "execution_count": null,
   "metadata": {},
   "outputs": [],
   "source": [
    "# (Anaconda Prompt) https://github.com/matterport/Mask_RCNN\n",
    "# 다운로드 받을 경로로 이동 (cd)해서 git clone 한다\n",
    "# (나의 경로) cd c:\\opensw\n",
    "git clone https://github.com/matterport/Mask_RCNN"
   ]
  },
  {
   "cell_type": "code",
   "execution_count": null,
   "metadata": {},
   "outputs": [],
   "source": [
    "# (Anaconda Prompt)\n",
    "\n",
    "pip install keras==2.1.2\n",
    "pip install tensorflow-gpu==1.15.5\n",
    "\n",
    "# 버전 확인\n",
    "print(tf.__version__)\n",
    "\n",
    "import keras\n",
    "print(keras.__version__)"
   ]
  },
  {
   "cell_type": "markdown",
   "metadata": {},
   "source": [
    "### MSRK_RCNN git clone 한 경로에서 다음과 같이 폴더를 생성\n",
    "Mask_RCNN - model - balloon - datasets - logs\n",
    "\n",
    "1. https://github.com/matterport/Mask_RCNN/releases/download/v2.1/mask_rcnn_balloon.h5 에서 파일을 다운 \n",
    "2. https://github.com/matterport/Mask_RCNN/releases/download/v1.0/mask_rcnn_coco.h5 에서 파일을 다운\n",
    "(1번, 2번 -> Mask_RCNN 폴더에 복사)\n",
    "3. https://github.com/matterport/Mask_RCNN/releases/download/v2.1/balloon_dataset.zip 파일 다운\n",
    "(Mask_RCNN/model/balloon/datasets 폴더에 해제)"
   ]
  },
  {
   "cell_type": "code",
   "execution_count": null,
   "metadata": {},
   "outputs": [],
   "source": [
    "# 설치\n",
    "pip install -U scikit-image==0.16.2"
   ]
  },
  {
   "cell_type": "code",
   "execution_count": null,
   "metadata": {},
   "outputs": [],
   "source": [
    "# samples/balloon 폴더로 이동 후 다음의 명령어로 실행\n",
    "# cd samples/balloon\n",
    "\n",
    "python balloon.py --dataset ../../model/balloon/datasets --weights ../../mask_rcnn_balloon.h5 --logs",
    "../../model/balloon/logs--image ../../model/balloon/datasets/val/3800636873_ace2c2795f_b.jpg splash"
   ]
  },
  {
   "cell_type": "markdown",
   "metadata": {},
   "source": [
    "## iterference할 이미지\n",
    "\n",
    "<img src=\"./model/balloon/datasets/val/3800636873_ace2c2795f_b.jpg\" width=\"450px\" height=\"300px\"></img><br/>"
   ]
  },
  {
   "cell_type": "markdown",
   "metadata": {},
   "source": [
    "## 결과\n",
    "### Mask_RCNN/samples/balloons 폴더안에 interference 결과 이미지가 splash 파일에 생성\n",
    "\n",
    "<img src=\"./samples/balloon/splash_20231109T212912.png\" width=\"450px\" height=\"300px\"></img><br/>"
   ]
  }
 ],
 "metadata": {
  "kernelspec": {
   "display_name": "openai-env",
   "language": "python",
   "name": "python3"
  },
  "language_info": {
   "codemirror_mode": {
    "name": "ipython",
    "version": 3
   },
   "file_extension": ".py",
   "mimetype": "text/x-python",
   "name": "python",
   "nbconvert_exporter": "python",
   "pygments_lexer": "ipython3",
   "version": "3.8.5"
  }
 },
 "nbformat": 4,
 "nbformat_minor": 2
}
